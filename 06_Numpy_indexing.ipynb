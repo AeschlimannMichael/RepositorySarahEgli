{
  "cells": [
    {
      "cell_type": "markdown",
      "metadata": {
        "id": "view-in-github",
        "colab_type": "text"
      },
      "source": [
        "<a href=\"https://colab.research.google.com/github/SarahEgli/RepositorySarahEgli/blob/main/06_Numpy_indexing.ipynb\" target=\"_parent\"><img src=\"https://colab.research.google.com/assets/colab-badge.svg\" alt=\"Open In Colab\"/></a>"
      ]
    },
    {
      "cell_type": "markdown",
      "metadata": {
        "id": "ru7mNBPPCjqV"
      },
      "source": [
        "# 6. Numpy indexing\n",
        "\n",
        "Often we need to extract some information from a Pandas DataFrame. Here also, Pandas inherits many of the approaches used in Numpy. Therefore we start here by very briefly showing how to proceed with plain arrays before looking at the more complex DataFrames.\n",
        "\n",
        "Note that Numpy indexing is very powerful and that we cover here only a tiny fraction of this topic. To learn more you can for example the [Numpy reference](https://numpy.org/doc/stable/reference/arrays.indexing.html#indexing)."
      ]
    },
    {
      "cell_type": "code",
      "execution_count": 1,
      "metadata": {
        "id": "ztwtLIbJDpYx"
      },
      "outputs": [],
      "source": [
        " import numpy as np"
      ]
    },
    {
      "cell_type": "markdown",
      "metadata": {
        "id": "3tMa2-cXDqaA"
      },
      "source": [
        "We first create an array:"
      ]
    },
    {
      "cell_type": "code",
      "execution_count": 2,
      "metadata": {
        "id": "ZsaO3RdIDuMa",
        "outputId": "6181a175-e35c-46c9-b949-6d469759aae4",
        "colab": {
          "base_uri": "https://localhost:8080/"
        }
      },
      "outputs": [
        {
          "output_type": "execute_result",
          "data": {
            "text/plain": [
              "array([-0.39715341,  1.48510716,  0.87559863, -1.23115929, -0.85805455,\n",
              "       -0.96682217,  0.43618337, -1.5768627 , -0.73679905, -0.25169439])"
            ]
          },
          "metadata": {},
          "execution_count": 2
        }
      ],
      "source": [
        " my_array = np.random.normal(size=10)\n",
        " my_array"
      ]
    },
    {
      "cell_type": "markdown",
      "metadata": {
        "id": "y5-My76iDyCb"
      },
      "source": [
        "## Extracting and setting elements\n",
        "\n",
        "The standard way to extract information from an array is to used the square parenthesis (bracket) notation. If we want for example to extract the second element of the array we write:\n",
        "\n"
      ]
    },
    {
      "cell_type": "code",
      "execution_count": 3,
      "metadata": {
        "id": "9uxQWL_jEAXH",
        "outputId": "292f88e0-67b0-4673-cea0-b77186dfc171",
        "colab": {
          "base_uri": "https://localhost:8080/"
        }
      },
      "outputs": [
        {
          "output_type": "execute_result",
          "data": {
            "text/plain": [
              "1.4851071597444612"
            ]
          },
          "metadata": {},
          "execution_count": 3
        }
      ],
      "source": [
        " my_array[1]"
      ]
    },
    {
      "cell_type": "markdown",
      "metadata": {
        "id": "IOoZtvSiEDw8"
      },
      "source": [
        "Remember that **we start counting from 0** in Python, which is why the *second* element has index 1.\n",
        "\n",
        "We can extend the notation and extract a range of elements by using the ```from_index:to_index (excluded)``` notation. Here ```excluded``` means that the **last index** specified is **not included**. For example if we want to recover elements with indices from 1 to 3 we write:"
      ]
    },
    {
      "cell_type": "code",
      "execution_count": 4,
      "metadata": {
        "id": "4tCNuBLpELzd",
        "outputId": "ffc9b56e-a9f3-4533-c02a-afe54252dfd7",
        "colab": {
          "base_uri": "https://localhost:8080/"
        }
      },
      "outputs": [
        {
          "output_type": "execute_result",
          "data": {
            "text/plain": [
              "array([ 1.48510716,  0.87559863, -1.23115929])"
            ]
          },
          "metadata": {},
          "execution_count": 4
        }
      ],
      "source": [
        " my_array[1:4]"
      ]
    },
    {
      "cell_type": "markdown",
      "metadata": {
        "id": "YXCwO49SEvmh"
      },
      "source": [
        "We can also set values in the array in the same maner. For example let's set the above elements to 10:"
      ]
    },
    {
      "cell_type": "code",
      "execution_count": 5,
      "metadata": {
        "id": "R-cldFxDE-3o"
      },
      "outputs": [],
      "source": [
        " my_array[1:4] = 10"
      ]
    },
    {
      "cell_type": "code",
      "execution_count": 6,
      "metadata": {
        "id": "YzyfJV6wFFSa",
        "outputId": "37586e17-0a9a-4e91-84f2-0b6a872333cc",
        "colab": {
          "base_uri": "https://localhost:8080/"
        }
      },
      "outputs": [
        {
          "output_type": "execute_result",
          "data": {
            "text/plain": [
              "array([-0.39715341, 10.        , 10.        , 10.        , -0.85805455,\n",
              "       -0.96682217,  0.43618337, -1.5768627 , -0.73679905, -0.25169439])"
            ]
          },
          "metadata": {},
          "execution_count": 6
        }
      ],
      "source": [
        " my_array"
      ]
    },
    {
      "cell_type": "markdown",
      "metadata": {
        "id": "wTC1zc6Kcue_"
      },
      "source": [
        "Note that you can sometimes simplify the notation. For example if you want to extract all elements from the 4th one **to the last one**, you don't have to specify the last index, you can simply replace it by ```:```:\n"
      ]
    },
    {
      "cell_type": "code",
      "execution_count": 7,
      "metadata": {
        "id": "3Wh8TLBOdS1f",
        "outputId": "3396dd12-4f5f-4ac3-cfb5-f4038e4ead82",
        "colab": {
          "base_uri": "https://localhost:8080/"
        }
      },
      "outputs": [
        {
          "output_type": "execute_result",
          "data": {
            "text/plain": [
              "array([-0.85805455, -0.96682217,  0.43618337, -1.5768627 , -0.73679905,\n",
              "       -0.25169439])"
            ]
          },
          "metadata": {},
          "execution_count": 7
        }
      ],
      "source": [
        " my_array[4::]"
      ]
    },
    {
      "cell_type": "markdown",
      "metadata": {
        "id": "LkdwCr_Ydcdm"
      },
      "source": [
        "## Higher dimensions\n",
        "\n",
        "We have seen before that we can create arrays with more than one dimension (think e.g. of the pixels of an image). For example:"
      ]
    },
    {
      "cell_type": "code",
      "execution_count": 8,
      "metadata": {
        "id": "wnDoPx6KdnVr",
        "outputId": "16092ea0-512f-44c9-ae26-40bf3a8a52f0",
        "colab": {
          "base_uri": "https://localhost:8080/"
        }
      },
      "outputs": [
        {
          "output_type": "execute_result",
          "data": {
            "text/plain": [
              "array([[-0.53771932, -0.60478186, -1.05089875,  0.45226515,  0.38749452],\n",
              "       [-0.47032871,  0.88057048, -0.24815896,  1.0765015 ,  0.72721778],\n",
              "       [-0.35902879, -1.01803327,  0.78340756, -0.70038612, -1.74169439]])"
            ]
          },
          "metadata": {},
          "execution_count": 8
        }
      ],
      "source": [
        " array2D = np.random.normal(size=(3,5))\n",
        " array2D"
      ]
    },
    {
      "cell_type": "markdown",
      "metadata": {
        "id": "fvh9-Y1UdsiZ"
      },
      "source": [
        "The indexing system works in the same way here. We just have to specify now for each dimension which rows/columns we want to extract with ```my_array[start_row:end_row, start_column:end_column]```:"
      ]
    },
    {
      "cell_type": "code",
      "execution_count": 9,
      "metadata": {
        "id": "PwEp-hwKeBXy",
        "outputId": "abd9f747-bc08-4f7a-e09a-c1a8b0749464",
        "colab": {
          "base_uri": "https://localhost:8080/"
        }
      },
      "outputs": [
        {
          "output_type": "execute_result",
          "data": {
            "text/plain": [
              "array([[-0.47032871,  0.88057048],\n",
              "       [-0.35902879, -1.01803327]])"
            ]
          },
          "metadata": {},
          "execution_count": 9
        }
      ],
      "source": [
        " array2D[1:3, 0:2]"
      ]
    },
    {
      "cell_type": "markdown",
      "metadata": {
        "id": "Il56KE3VeIaB"
      },
      "source": [
        "Here again, we can simplify the notation. If we want to select a few rows but **want to keep all columns**, we can again use the ```:``` notation like this:"
      ]
    },
    {
      "cell_type": "code",
      "execution_count": 10,
      "metadata": {
        "id": "2SnaezpQeTGq",
        "outputId": "c509a61c-6495-4cd7-81f3-9123af795f9f",
        "colab": {
          "base_uri": "https://localhost:8080/"
        }
      },
      "outputs": [
        {
          "output_type": "execute_result",
          "data": {
            "text/plain": [
              "array([[-0.47032871,  0.88057048, -0.24815896,  1.0765015 ,  0.72721778],\n",
              "       [-0.35902879, -1.01803327,  0.78340756, -0.70038612, -1.74169439]])"
            ]
          },
          "metadata": {},
          "execution_count": 10
        }
      ],
      "source": [
        " array2D[1:3, :]"
      ]
    },
    {
      "cell_type": "markdown",
      "metadata": {
        "id": "FsqskNXsFGTG"
      },
      "source": [
        "## Working with sub-parts\n",
        "\n",
        "Using indexing, we can also create a smaller array that we want to work on specifically. For example let's say we are only interested in the 6th to 8th element. We can **extract** it and **asign** it to a new array:"
      ]
    },
    {
      "cell_type": "code",
      "execution_count": 11,
      "metadata": {
        "id": "vtuQhL9EFt08"
      },
      "outputs": [],
      "source": [
        " sub_array = my_array[7:10]"
      ]
    },
    {
      "cell_type": "code",
      "execution_count": 12,
      "metadata": {
        "id": "Wa9qPa0nFzUW",
        "outputId": "16a784d5-70aa-4d0f-b05d-5c93d277b412",
        "colab": {
          "base_uri": "https://localhost:8080/"
        }
      },
      "outputs": [
        {
          "output_type": "execute_result",
          "data": {
            "text/plain": [
              "array([-0.39715341, 10.        , 10.        , 10.        , -0.85805455,\n",
              "       -0.96682217,  0.43618337, -1.5768627 , -0.73679905, -0.25169439])"
            ]
          },
          "metadata": {},
          "execution_count": 12
        }
      ],
      "source": [
        " my_array"
      ]
    },
    {
      "cell_type": "code",
      "execution_count": 13,
      "metadata": {
        "id": "vInkaepAF0zc",
        "outputId": "0e7f8a68-8614-4384-a917-c05c35b514d8",
        "colab": {
          "base_uri": "https://localhost:8080/"
        }
      },
      "outputs": [
        {
          "output_type": "execute_result",
          "data": {
            "text/plain": [
              "array([-1.5768627 , -0.73679905, -0.25169439])"
            ]
          },
          "metadata": {},
          "execution_count": 13
        }
      ],
      "source": [
        " sub_array"
      ]
    },
    {
      "cell_type": "markdown",
      "metadata": {
        "id": "0PjKXuSYF1iX"
      },
      "source": [
        "Let's now modify an element of this subarray:"
      ]
    },
    {
      "cell_type": "code",
      "execution_count": 14,
      "metadata": {
        "id": "-cTrdqfMF_Em"
      },
      "outputs": [],
      "source": [
        " sub_array[0] = 100"
      ]
    },
    {
      "cell_type": "markdown",
      "metadata": {
        "id": "5BSrHqHWGCh5"
      },
      "source": [
        "Let's check that ```sub_array``` has indeed changed:"
      ]
    },
    {
      "cell_type": "code",
      "execution_count": 15,
      "metadata": {
        "id": "lF7FFdYtGDKa",
        "outputId": "b91f6e2d-af1a-4596-b0a9-a58f37c81d3e",
        "colab": {
          "base_uri": "https://localhost:8080/"
        }
      },
      "outputs": [
        {
          "output_type": "execute_result",
          "data": {
            "text/plain": [
              "array([100.        ,  -0.73679905,  -0.25169439])"
            ]
          },
          "metadata": {},
          "execution_count": 15
        }
      ],
      "source": [
        " sub_array"
      ]
    },
    {
      "cell_type": "markdown",
      "metadata": {
        "id": "BQOPc1caGKOh"
      },
      "source": [
        "Let's now also have a look at the original array:"
      ]
    },
    {
      "cell_type": "code",
      "execution_count": 16,
      "metadata": {
        "id": "ZYZMwqPAGN8q",
        "outputId": "efa8cb33-a053-42d5-a2e7-98126f78bd10",
        "colab": {
          "base_uri": "https://localhost:8080/"
        }
      },
      "outputs": [
        {
          "output_type": "execute_result",
          "data": {
            "text/plain": [
              "array([ -0.39715341,  10.        ,  10.        ,  10.        ,\n",
              "        -0.85805455,  -0.96682217,   0.43618337, 100.        ,\n",
              "        -0.73679905,  -0.25169439])"
            ]
          },
          "metadata": {},
          "execution_count": 16
        }
      ],
      "source": [
        " my_array"
      ]
    },
    {
      "cell_type": "markdown",
      "metadata": {
        "id": "kEN5DCn4G1f5"
      },
      "source": [
        "**The value in the original array has changed too!**. The reason is that the slicing of the array **does not create an independent sub-array**. It is still linked to the original one. Depending on the types of modification, you might or might not encounter this problem. To be on the safe side, explicitely create a **copy** when creating a sub-array. Like that it will be independent from the original one: "
      ]
    },
    {
      "cell_type": "code",
      "execution_count": 17,
      "metadata": {
        "id": "6P_wV4hhHtnv"
      },
      "outputs": [],
      "source": [
        " sub_array = my_array[7:10].copy()\n",
        " sub_array[0] = 200"
      ]
    },
    {
      "cell_type": "code",
      "execution_count": 18,
      "metadata": {
        "id": "wG92XXlvHzFM",
        "outputId": "c7c4ca82-d8e5-4588-a17f-71efc917a93d",
        "colab": {
          "base_uri": "https://localhost:8080/"
        }
      },
      "outputs": [
        {
          "output_type": "execute_result",
          "data": {
            "text/plain": [
              "array([200.        ,  -0.73679905,  -0.25169439])"
            ]
          },
          "metadata": {},
          "execution_count": 18
        }
      ],
      "source": [
        " sub_array"
      ]
    },
    {
      "cell_type": "code",
      "execution_count": 19,
      "metadata": {
        "id": "Z5-I7hv-H1Ec",
        "outputId": "b44eec7e-de4b-488b-eebb-765a2d7ed7a0",
        "colab": {
          "base_uri": "https://localhost:8080/"
        }
      },
      "outputs": [
        {
          "output_type": "execute_result",
          "data": {
            "text/plain": [
              "array([ -0.39715341,  10.        ,  10.        ,  10.        ,\n",
              "        -0.85805455,  -0.96682217,   0.43618337, 100.        ,\n",
              "        -0.73679905,  -0.25169439])"
            ]
          },
          "metadata": {},
          "execution_count": 19
        }
      ],
      "source": [
        " my_array"
      ]
    },
    {
      "cell_type": "markdown",
      "metadata": {
        "id": "TFHwK8F1H226"
      },
      "source": [
        "## Boolean indexing\n",
        "\n",
        "Instead of using numerical indices to extract values from the array, we can also select them by some criteria. Let's create a new random array:"
      ]
    },
    {
      "cell_type": "code",
      "execution_count": 20,
      "metadata": {
        "id": "ctxI87WvI1Fo",
        "outputId": "899acdde-1c68-4018-f300-c0f83bfcfae4",
        "colab": {
          "base_uri": "https://localhost:8080/"
        }
      },
      "outputs": [
        {
          "output_type": "execute_result",
          "data": {
            "text/plain": [
              "array([ 0.09752077, -0.89717002, -0.66499831, -1.65992192, -0.90746429,\n",
              "       -1.38765341, -1.93789115, -1.53969295, -0.55075801, -0.65266235])"
            ]
          },
          "metadata": {},
          "execution_count": 20
        }
      ],
      "source": [
        " my_array2 = np.random.normal(size=10)\n",
        " my_array2"
      ]
    },
    {
      "cell_type": "markdown",
      "metadata": {
        "id": "4VXv0N-fI3E_"
      },
      "source": [
        "How to proceed now if we for example only want to recover the elements that are larger than 0 ?\n",
        "\n",
        "Let's try to see what happens when we just write it down as we would in regular mathemetics:"
      ]
    },
    {
      "cell_type": "code",
      "execution_count": 21,
      "metadata": {
        "id": "u6H3C4dYJC-L",
        "outputId": "262f7ef7-c83b-4925-cfa3-6637998a838f",
        "colab": {
          "base_uri": "https://localhost:8080/"
        }
      },
      "outputs": [
        {
          "output_type": "execute_result",
          "data": {
            "text/plain": [
              "array([ True, False, False, False, False, False, False, False, False,\n",
              "       False])"
            ]
          },
          "metadata": {},
          "execution_count": 21
        }
      ],
      "source": [
        " my_array2 > 0"
      ]
    },
    {
      "cell_type": "markdown",
      "metadata": {
        "id": "NtLOoe6gJETg"
      },
      "source": [
        "We see that the output is again an array, but instead of being filled with numbers, it contains only ```False``` and ```True```. Those values also exist in plain Python and are called booleans. For example:"
      ]
    },
    {
      "cell_type": "code",
      "execution_count": 22,
      "metadata": {
        "id": "QpUEST9aJSu_",
        "outputId": "25eb13f6-8ead-4579-9933-c6ffbf307645",
        "colab": {
          "base_uri": "https://localhost:8080/"
        }
      },
      "outputs": [
        {
          "output_type": "execute_result",
          "data": {
            "text/plain": [
              "False"
            ]
          },
          "metadata": {},
          "execution_count": 22
        }
      ],
      "source": [
        " a = 3\n",
        " a > 10"
      ]
    },
    {
      "cell_type": "markdown",
      "metadata": {
        "id": "DaMRX9Ohn8RS"
      },
      "source": [
        "We can now create an actual boolean array:"
      ]
    },
    {
      "cell_type": "code",
      "execution_count": 24,
      "metadata": {
        "id": "YE__BOshn_7o",
        "outputId": "e6b7e6c3-decb-4473-84d4-6eb7089e2378",
        "colab": {
          "base_uri": "https://localhost:8080/"
        }
      },
      "outputs": [
        {
          "output_type": "execute_result",
          "data": {
            "text/plain": [
              "array([ True, False, False, False, False, False, False, False, False,\n",
              "       False])"
            ]
          },
          "metadata": {},
          "execution_count": 24
        }
      ],
      "source": [
        " bool_array = my_array2 > 0\n",
        " bool_array"
      ]
    },
    {
      "cell_type": "markdown",
      "metadata": {
        "id": "IzUBMbwKJ9nn"
      },
      "source": [
        "We can now use this **boolean array** ```bool_array``` to extract values from any array of the same size. Imagine that you superpose ```bool_array``` to another array ```value_array``` and only select those values in ```value_array``` which are ```True``` in ```bool_array```. Naturally we can do this with the original array itself. Instead of passing and index ```my_array[i]``` we pass the entire ```bool_array```:"
      ]
    },
    {
      "cell_type": "code",
      "execution_count": 25,
      "metadata": {
        "id": "RmxTMOrXhFR4",
        "outputId": "8972a711-b83e-4815-86bb-04e505061d3a",
        "colab": {
          "base_uri": "https://localhost:8080/",
          "height": 516
        }
      },
      "outputs": [
        {
          "output_type": "execute_result",
          "data": {
            "text/plain": [
              "<IPython.core.display.Image object>"
            ],
            "text/html": [
              "<img src=\"https://github.com/guiwitz/ISDAwPython_day2/raw/master/images/logical_indexing.jpeg\" width=\"700\"/>"
            ]
          },
          "metadata": {},
          "execution_count": 25
        }
      ],
      "source": [
        " from IPython.display import Image\n",
        " Image(url='https://github.com/guiwitz/ISDAwPython_day2/raw/master/images/logical_indexing.jpeg',width=700)"
      ]
    },
    {
      "cell_type": "code",
      "execution_count": 26,
      "metadata": {
        "id": "QWd_e2UgnjLK",
        "outputId": "34fc8500-b516-4a93-e5ee-971340b225cc",
        "colab": {
          "base_uri": "https://localhost:8080/"
        }
      },
      "outputs": [
        {
          "output_type": "execute_result",
          "data": {
            "text/plain": [
              "array([0.09752077])"
            ]
          },
          "metadata": {},
          "execution_count": 26
        }
      ],
      "source": [
        " my_array2[bool_array] "
      ]
    },
    {
      "cell_type": "markdown",
      "metadata": {
        "id": "nCG4JCdQoEHw"
      },
      "source": [
        "Naturally this output array is much smaller than the original one as it only contains the values larger than 0."
      ]
    },
    {
      "cell_type": "markdown",
      "metadata": {
        "id": "BqxVdXevoLox"
      },
      "source": [
        "## Exercise\n",
        "\n",
        "1. Create a numpy array with values from 0 to 10 in steps of 0.5\n",
        "2. Extract the the last three elements of the array using slicing.\n",
        "3. Apply a cosine function to the full array created in (1.) and store the output in a new array.\n",
        "4. Create a boolean array telling which values in the array from (3.) are smaller than 0.\n",
        "5. Recover only those values in a new array via indexing."
      ]
    },
    {
      "cell_type": "code",
      "execution_count": null,
      "metadata": {
        "id": "4NkEfp57mw8R"
      },
      "outputs": [],
      "source": [
        ""
      ]
    }
  ],
  "metadata": {
    "colab": {
      "collapsed_sections": [],
      "name": "06-Numpy_indexing.ipynb",
      "provenance": [],
      "toc_visible": true,
      "include_colab_link": true
    },
    "kernelspec": {
      "display_name": "Python 3 (ipykernel)",
      "language": "python",
      "name": "python3"
    },
    "language_info": {
      "codemirror_mode": {
        "name": "ipython",
        "version": 3
      },
      "file_extension": ".py",
      "mimetype": "text/x-python",
      "name": "python",
      "nbconvert_exporter": "python",
      "pygments_lexer": "ipython3",
      "version": "3.9.10"
    }
  },
  "nbformat": 4,
  "nbformat_minor": 0
}